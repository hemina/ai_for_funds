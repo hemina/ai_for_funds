{
 "cells": [
  {
   "cell_type": "code",
   "execution_count": 3,
   "metadata": {
    "collapsed": false
   },
   "outputs": [],
   "source": [
    "import json\n",
    "import os,sys\n",
    "import pandas as pd\n",
    "\n",
    "pwd = sys.path[0]    # 获取当前执行脚本的位置\n",
    "path = os.path.abspath(os.path.join(pwd, 'dataset', 'ms'))\n",
    "#print path\n",
    "\n",
    "#print os.path.abspath(os.path.join(os.path.dirname(__file__), os.pardir, os.pardir))\n",
    "f = open(path+'/train_v1.1.json', 'rb')\n",
    "data = f.readlines()\n",
    "#train = pd.read_json(path+'/train_v1.1.json', orient='records')\n",
    "    \n",
    "\n",
    "# remove the trailing \"\\n\" from each line\n",
    "\n",
    "data = map(lambda x: x.rstrip(), data)\n",
    "\n",
    "# each element of 'data' is an individual JSON object.\n",
    "# i want to convert it into an *array* of JSON objects\n",
    "# which, in and of itself, is one large JSON object\n",
    "# basically... add square brackets to the beginning\n",
    "# and end, and have all the individual business JSON objects\n",
    "# separated by a comma\n",
    "data_json_str = \"[\" + ','.join(data) + \"]\"\n",
    "\n",
    "# now, load it into pandas\n",
    "data_df = pd.read_json(data_json_str)\n"
   ]
  },
  {
   "cell_type": "code",
   "execution_count": 4,
   "metadata": {
    "collapsed": false
   },
   "outputs": [
    {
     "data": {
      "text/html": [
       "<div>\n",
       "<table border=\"1\" class=\"dataframe\">\n",
       "  <thead>\n",
       "    <tr style=\"text-align: right;\">\n",
       "      <th></th>\n",
       "      <th>answers</th>\n",
       "      <th>passages</th>\n",
       "      <th>query</th>\n",
       "      <th>query_id</th>\n",
       "      <th>query_type</th>\n",
       "    </tr>\n",
       "  </thead>\n",
       "  <tbody>\n",
       "    <tr>\n",
       "      <th>0</th>\n",
       "      <td>[Results-Based Accountability is a disciplined...</td>\n",
       "      <td>[{u'url': u'https://en.wikipedia.org/wiki/Rese...</td>\n",
       "      <td>what is rba</td>\n",
       "      <td>19699</td>\n",
       "      <td>description</td>\n",
       "    </tr>\n",
       "    <tr>\n",
       "      <th>1</th>\n",
       "      <td>[Yes]</td>\n",
       "      <td>[{u'url': u'http://www.history.com/topics/us-p...</td>\n",
       "      <td>was ronald reagan a democrat</td>\n",
       "      <td>19700</td>\n",
       "      <td>description</td>\n",
       "    </tr>\n",
       "    <tr>\n",
       "      <th>2</th>\n",
       "      <td>[20-25 minutes]</td>\n",
       "      <td>[{u'url': u'https://en.wikipedia.org/wiki/Geog...</td>\n",
       "      <td>how long do you need for sydney and surroundin...</td>\n",
       "      <td>19701</td>\n",
       "      <td>numeric</td>\n",
       "    </tr>\n",
       "    <tr>\n",
       "      <th>3</th>\n",
       "      <td>[$11 to $22 per square foot]</td>\n",
       "      <td>[{u'url': u'http://www.improvenet.com/r/costs-...</td>\n",
       "      <td>price to install tile in shower</td>\n",
       "      <td>19702</td>\n",
       "      <td>numeric</td>\n",
       "    </tr>\n",
       "    <tr>\n",
       "      <th>4</th>\n",
       "      <td>[Due to symptoms in the body]</td>\n",
       "      <td>[{u'url': u'http://www.ncbi.nlm.nih.gov/pmc/ar...</td>\n",
       "      <td>why conversion observed in body</td>\n",
       "      <td>19703</td>\n",
       "      <td>description</td>\n",
       "    </tr>\n",
       "  </tbody>\n",
       "</table>\n",
       "</div>"
      ],
      "text/plain": [
       "                                             answers  \\\n",
       "0  [Results-Based Accountability is a disciplined...   \n",
       "1                                              [Yes]   \n",
       "2                                    [20-25 minutes]   \n",
       "3                       [$11 to $22 per square foot]   \n",
       "4                      [Due to symptoms in the body]   \n",
       "\n",
       "                                            passages  \\\n",
       "0  [{u'url': u'https://en.wikipedia.org/wiki/Rese...   \n",
       "1  [{u'url': u'http://www.history.com/topics/us-p...   \n",
       "2  [{u'url': u'https://en.wikipedia.org/wiki/Geog...   \n",
       "3  [{u'url': u'http://www.improvenet.com/r/costs-...   \n",
       "4  [{u'url': u'http://www.ncbi.nlm.nih.gov/pmc/ar...   \n",
       "\n",
       "                                               query  query_id   query_type  \n",
       "0                                        what is rba     19699  description  \n",
       "1                       was ronald reagan a democrat     19700  description  \n",
       "2  how long do you need for sydney and surroundin...     19701      numeric  \n",
       "3                    price to install tile in shower     19702      numeric  \n",
       "4                    why conversion observed in body     19703  description  "
      ]
     },
     "execution_count": 4,
     "metadata": {},
     "output_type": "execute_result"
    }
   ],
   "source": [
    "data_df.head()"
   ]
  },
  {
   "cell_type": "code",
   "execution_count": 19,
   "metadata": {
    "collapsed": false
   },
   "outputs": [],
   "source": [
    "data_df[\"query_type\"].astype('category')\n"
   ]
  },
  {
   "cell_type": "code",
   "execution_count": 21,
   "metadata": {
    "collapsed": false
   },
   "outputs": [
    {
     "data": {
      "text/plain": [
       "dtype('O')"
      ]
     },
     "execution_count": 21,
     "metadata": {},
     "output_type": "execute_result"
    }
   ],
   "source": []
  },
  {
   "cell_type": "code",
   "execution_count": 13,
   "metadata": {
    "collapsed": false
   },
   "outputs": [
    {
     "data": {
      "text/plain": [
       "[{u'is_selected': 0,\n",
       "  u'passage_text': u\"Since 2007, the RBA's outstanding reputation has been affected by the 'Securency' or NPA scandal. These RBA subsidiaries were involved in bribing overseas officials so that Australia might win lucrative note-printing contracts. The assets of the bank include the gold and foreign exchange reserves of Australia, which is estimated to have a net worth of A$101 billion. Nearly 94% of the RBA's employees work at its headquarters in Sydney, New South Wales and at the Business Resumption Site.\",\n",
       "  u'url': u'https://en.wikipedia.org/wiki/Reserve_Bank_of_Australia'},\n",
       " {u'is_selected': 0,\n",
       "  u'passage_text': u\"The Reserve Bank of Australia (RBA) came into being on 14 January 1960 as Australia 's central bank and banknote issuing authority, when the Reserve Bank Act 1959 removed the central banking functions from the Commonwealth Bank. The assets of the bank include the gold and foreign exchange reserves of Australia, which is estimated to have a net worth of A$101 billion. Nearly 94% of the RBA's employees work at its headquarters in Sydney, New South Wales and at the Business Resumption Site.\",\n",
       "  u'url': u'https://en.wikipedia.org/wiki/Reserve_Bank_of_Australia'},\n",
       " {u'is_selected': 0,\n",
       "  u'passage_text': u'RBA Recognized with the 2014 Microsoft US Regional Partner of the ... by PR Newswire. Contract Awarded for supply and support the. Securitisations System used for risk management and analysis. ',\n",
       "  u'url': u'http://acronyms.thefreedictionary.com/RBA'},\n",
       " {u'is_selected': 0,\n",
       "  u'passage_text': u'The inner workings of a rebuildable atomizer are surprisingly simple. The coil inside the RBA is made of some type of resistance wire, normally Kanthal or nichrome. When a current is applied to the coil (resistance wire), it heats up and the heated coil then vaporizes the eliquid. 1 The bottom feed RBA is, perhaps, the easiest of all RBA types to build, maintain, and use. 2  It is filled from below, much like bottom coil clearomizer. 3  Bottom feed RBAs can utilize cotton instead of silica for the wick. 4  The Genesis, or genny, is a top feed RBA that utilizes a short woven mesh wire.',\n",
       "  u'url': u'https://www.slimvapepen.com/rebuildable-atomizer-rba/'},\n",
       " {u'is_selected': 0,\n",
       "  u'passage_text': u'Results-Based Accountability\\xae (also known as RBA) is a disciplined way of thinking and taking action that communities can use to improve the lives of children, youth, families, adults and the community as a whole. RBA is also used by organizations to improve the performance of their programs. RBA improves the lives of children, families, and communities and the performance of programs because RBA: 1  Gets from talk to action quickly; 2  Is a simple, common sense process that everyone can understand; 3  Helps groups to surface and challenge assumptions that can be barriers to innovation;',\n",
       "  u'url': u'http://rba-africa.com/about/what-is-rba/'},\n",
       " {u'is_selected': 1,\n",
       "  u'passage_text': u'Results-Based Accountability\\xae (also known as RBA) is a disciplined way of thinking and taking action that communities can use to improve the lives of children, youth, families, adults and the community as a whole. RBA is also used by organizations to improve the performance of their programs. Creating Community Impact with RBA. Community impact focuses on conditions of well-being for children, families and the community as a whole that a group of leaders is working collectively to improve. For example: \\u201cResidents with good jobs,\\u201d \\u201cChildren ready for school,\\u201d or \\u201cA safe and clean neighborhood\\u201d.',\n",
       "  u'url': u'http://resultsleadership.org/what-is-results-based-accountability-rba/'},\n",
       " {u'is_selected': 0,\n",
       "  u'passage_text': u'RBA uses a data-driven, decision-making process to help communities and organizations get beyond talking about problems to taking action to solve problems. It is a simple, common sense framework that everyone can understand. RBA starts with ends and works backward, towards means. The \\u201cend\\u201d or difference you are trying to make looks slightly different if you are working on a broad community level or are focusing on your specific program or organization. RBA improves the lives of children, families, and communities and the performance of programs because RBA: 1  Gets from talk to action quickly; 2  Is a simple, common sense process that everyone can understand; 3  Helps groups to surface and challenge assumptions that can be barriers to innovation;',\n",
       "  u'url': u'http://rba-africa.com/about/what-is-rba/'},\n",
       " {u'is_selected': 0,\n",
       "  u'passage_text': u'vs. NetIQ Identity Manager. Risk-based authentication (RBA) is a method of applying varying levels of stringency to authentication processes based on the likelihood that access to a given system could result in its being compromised. Risk-based authentication can be categorized as either user-dependent or transaction-dependent. User-dependent RBA processes employ the same authentication for every session initiated by a given user; the exact credentials that the site demands depend on who the user is.',\n",
       "  u'url': u'http://searchsecurity.techtarget.com/definition/risk-based-authentication-RBA'},\n",
       " {u'is_selected': 0,\n",
       "  u'passage_text': u'A rebuildable atomizer (RBA), often referred to as simply a \\u201crebuildable,\\u201d is just a special type of atomizer used in the Vape Pen and Mod Industry that connects to a personal vaporizer. 1 The bottom feed RBA is, perhaps, the easiest of all RBA types to build, maintain, and use. 2  It is filled from below, much like bottom coil clearomizer. 3  Bottom feed RBAs can utilize cotton instead of silica for the wick. 4  The Genesis, or genny, is a top feed RBA that utilizes a short woven mesh wire.',\n",
       "  u'url': u'https://www.slimvapepen.com/rebuildable-atomizer-rba/'},\n",
       " {u'is_selected': 0,\n",
       "  u'passage_text': u'Get To Know Us. RBA is a digital and technology consultancy with roots in strategy, design and technology. Our team of specialists help progressive companies deliver modern digital experiences backed by proven technology engineering. ',\n",
       "  u'url': u'http://www.rbaconsulting.com/'}]"
      ]
     },
     "execution_count": 13,
     "metadata": {},
     "output_type": "execute_result"
    }
   ],
   "source": [
    "data_df[\"passages\"][0]"
   ]
  },
  {
   "cell_type": "code",
   "execution_count": 19,
   "metadata": {
    "collapsed": false
   },
   "outputs": [
    {
     "data": {
      "text/plain": [
       "[u'20-25 minutes']"
      ]
     },
     "execution_count": 19,
     "metadata": {},
     "output_type": "execute_result"
    }
   ],
   "source": [
    "data_df[\"answers\"][2]"
   ]
  },
  {
   "cell_type": "code",
   "execution_count": null,
   "metadata": {
    "collapsed": true
   },
   "outputs": [],
   "source": []
  }
 ],
 "metadata": {
  "anaconda-cloud": {},
  "kernelspec": {
   "display_name": "Python 2",
   "language": "python",
   "name": "python2"
  },
  "language_info": {
   "codemirror_mode": {
    "name": "ipython",
    "version": 2
   },
   "file_extension": ".py",
   "mimetype": "text/x-python",
   "name": "python",
   "nbconvert_exporter": "python",
   "pygments_lexer": "ipython2",
   "version": "2.7.12"
  }
 },
 "nbformat": 4,
 "nbformat_minor": 1
}
